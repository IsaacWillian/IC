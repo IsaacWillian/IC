{
 "cells": [
  {
   "cell_type": "code",
   "execution_count": 1,
   "metadata": {},
   "outputs": [],
   "source": [
    "import scipy.ndimage as ndi\n",
    "import numpy as np\n",
    "import matplotlib.pyplot as plt"
   ]
  },
  {
   "cell_type": "code",
   "execution_count": 2,
   "metadata": {},
   "outputs": [],
   "source": [
    "def count_agreements(img, points):\n",
    "    '''\n",
    "    `img` is a binary image containing ground truth marks and `points` \n",
    "    are the points detected by the algorithm\n",
    "    \n",
    "    Parameters\n",
    "    ----------\n",
    "    img : numpy array\n",
    "        Binary image\n",
    "    points : numpy array\n",
    "        Nx2 array containing the points\n",
    "        \n",
    "    Returns\n",
    "    -------\n",
    "    tp : int\n",
    "        True positives\n",
    "    fp : int\n",
    "        False positives\n",
    "    fn : int\n",
    "        False negatives\n",
    "    '''\n",
    "    \n",
    "    img_points = np.zeros_like(img, dtype=np.uint8)\n",
    "    img_points[points[:,0], points[:,1]] = 1\n",
    "\n",
    "    img_labels, num_comp = ndi.label(img)\n",
    "    slices = ndi.find_objects(img_labels)\n",
    "\n",
    "    tp = fn = fp = 0\n",
    "    for index, slice in enumerate(slices):\n",
    "        if slice!=None:\n",
    "            img_comp = (img_labels[slice]==(index+1)).astype(np.uint8)\n",
    "            img_comp_points = (img_points[slice]*img_comp).astype(np.uint8)\n",
    "\n",
    "            num_points_in_comp = np.sum(img_comp_points)\n",
    "            if num_points_in_comp==0:\n",
    "                fn += 1\n",
    "            else:\n",
    "                tp += 1\n",
    "                fp += num_points_in_comp-1\n",
    "                \n",
    "    fp += np.sum(np.logical_not(img>0)*img_points)\n",
    "\n",
    "    return tp, fp, fn\n",
    "        \n",
    "def draw_points(img, points):\n",
    "    \n",
    "    img_points = np.tile(img[:,:,None], (1, 1, 3))\n",
    "    img_points[points[:,0], points[:,1]] = (255, 0, 0)\n",
    "    plt.imshow(img_points)"
   ]
  },
  {
   "cell_type": "code",
   "execution_count": 3,
   "metadata": {},
   "outputs": [
    {
     "name": "stdout",
     "output_type": "stream",
     "text": [
      "tp = 6, fp = 10, fn = 2\n"
     ]
    },
    {
     "data": {
      "image/png": "[encoded data removed]",
      "text/plain": [
       "<Figure size 432x288 with 1 Axes>"
      ]
     },
     "metadata": {
      "needs_background": "light"
     },
     "output_type": "display_data"
    }
   ],
   "source": [
    "img = plt.imread('test.tiff')\n",
    "points = np.array([(16, 21), (14, 65), (16, 60), (20, 89), (37, 82), (39, 78), (43, 11), (45, 45),\n",
    "                   (52, 10), (59, 36), (59, 66), (70, 19), (74, 20), (74, 25), (75, 17), (78, 47)])\n",
    "\n",
    "draw_points(img, points)\n",
    "tp, fp, fn = count_agreements(img, points)\n",
    "print(f'tp = {tp}, fp = {fp}, fn = {fn}')"
   ]
  },
  {
   "cell_type": "code",
   "execution_count": null,
   "metadata": {},
   "outputs": [],
   "source": []
  }
 ],
 "metadata": {
  "kernelspec": {
   "display_name": "Python 3",
   "language": "python",
   "name": "python3"
  },
  "language_info": {
   "codemirror_mode": {
    "name": "ipython",
    "version": 3
   },
   "file_extension": ".py",
   "mimetype": "text/x-python",
   "name": "python",
   "nbconvert_exporter": "python",
   "pygments_lexer": "ipython3",
   "version": "3.7.4"
  }
 },
 "nbformat": 4,
 "nbformat_minor": 4
}
